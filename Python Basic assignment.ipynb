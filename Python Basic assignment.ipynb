{
 "cells": [
  {
   "cell_type": "code",
   "execution_count": 57,
   "metadata": {},
   "outputs": [
    {
     "data": {
      "text/plain": [
       "\"\\n1. * - expression\\n2. 'helo' - value\\n3. -87.8 - value\\n4. - expression\\n5. / - expression\\n6. + - expression\\n7. 6 - value\\n\""
      ]
     },
     "execution_count": 57,
     "metadata": {},
     "output_type": "execute_result"
    }
   ],
   "source": [
    "#ANS 1\n",
    "\"\"\"\n",
    "1. * - expression\n",
    "2. 'helo' - value\n",
    "3. -87.8 - value\n",
    "4. - expression\n",
    "5. / - expression\n",
    "6. + - expression\n",
    "7. 6 - value\n",
    "\"\"\""
   ]
  },
  {
   "cell_type": "code",
   "execution_count": 58,
   "metadata": {},
   "outputs": [
    {
     "data": {
      "text/plain": [
       "'String is a type of data and variable is a place where we store a data'"
      ]
     },
     "execution_count": 58,
     "metadata": {},
     "output_type": "execute_result"
    }
   ],
   "source": [
    "#Que 2\n",
    "\"\"\"What is the difference between string and variable?\"\"\"\n",
    "#Ans 2\n",
    "\"\"\"String is a type of data and variable is a place where we store a data\"\"\""
   ]
  },
  {
   "cell_type": "code",
   "execution_count": 59,
   "metadata": {},
   "outputs": [
    {
     "data": {
      "text/plain": [
       "' \\n1. String\\n2. Integer\\n3. Boolean\\n4. Character\\n5. Float'"
      ]
     },
     "execution_count": 59,
     "metadata": {},
     "output_type": "execute_result"
    }
   ],
   "source": [
    "#Que 3\n",
    "\"\"\"Describe three different data types.\"\"\"\n",
    "#Ans 3\n",
    "\"\"\" \n",
    "1. String\n",
    "2. Integer\n",
    "3. Boolean\n",
    "4. Character\n",
    "5. Float\"\"\""
   ]
  },
  {
   "cell_type": "code",
   "execution_count": 60,
   "metadata": {},
   "outputs": [
    {
     "data": {
      "text/plain": [
       "'\\nExpresions are made of values, variable.\\nExpression is an instruction that combines the values to a get a single output'"
      ]
     },
     "execution_count": 60,
     "metadata": {},
     "output_type": "execute_result"
    }
   ],
   "source": [
    "# Que 4\n",
    "\"\"\"\n",
    "What is an expression made up of? What do all expressions do?\"\"\"\n",
    "# Ans 4 \n",
    "\"\"\"\n",
    "Expresions are made of values, variable.\n",
    "Expression is an instruction that combines the values to a get a single output\"\"\""
   ]
  },
  {
   "cell_type": "code",
   "execution_count": 61,
   "metadata": {},
   "outputs": [
    {
     "data": {
      "text/plain": [
       "'\\nExpression evaluates a value where as statement does something (represents a action or command)\\nspam = 10  is a statement\\nprint 20*20 is a expression'"
      ]
     },
     "execution_count": 61,
     "metadata": {},
     "output_type": "execute_result"
    }
   ],
   "source": [
    "# Que 5\n",
    "\"\"\"This assignment statements, like spam = 10. What is the difference between an expression and a statement?\"\"\"\n",
    "# Ans 5\n",
    "\"\"\"\n",
    "Expression evaluates a value where as statement does something (represents a action or command)\n",
    "spam = 10  is a statement\n",
    "print 20*20 is a expression\"\"\""
   ]
  },
  {
   "cell_type": "code",
   "execution_count": 63,
   "metadata": {},
   "outputs": [
    {
     "data": {
      "text/plain": [
       "23"
      ]
     },
     "execution_count": 63,
     "metadata": {},
     "output_type": "execute_result"
    }
   ],
   "source": [
    "# Que 6\n",
    "\"\"\"After running the following code, what does the variable bacon contain?\n",
    "bacon = 22\n",
    "bacon + 1\n",
    "\"\"\"\n",
    "bacon = 22\n",
    "bacon + 1\n"
   ]
  },
  {
   "cell_type": "code",
   "execution_count": 64,
   "metadata": {},
   "outputs": [
    {
     "data": {
      "text/plain": [
       "22"
      ]
     },
     "execution_count": 64,
     "metadata": {},
     "output_type": "execute_result"
    }
   ],
   "source": [
    "bacon"
   ]
  },
  {
   "cell_type": "code",
   "execution_count": 65,
   "metadata": {},
   "outputs": [],
   "source": [
    "# Que 7\n",
    "\"\"\"What should the values of the following two terms be?\n",
    "'spam' + 'spamspam'\n",
    "'spam' * 3\"\"\"\n"
   ]
  },
  {
   "cell_type": "code",
   "execution_count": 69,
   "metadata": {},
   "outputs": [
    {
     "data": {
      "text/plain": [
       "'spamspamspam'"
      ]
     },
     "execution_count": 69,
     "metadata": {},
     "output_type": "execute_result"
    }
   ],
   "source": [
    "# Ans 7\n",
    "'spam' + 'spamspam'"
   ]
  },
  {
   "cell_type": "code",
   "execution_count": 70,
   "metadata": {},
   "outputs": [
    {
     "data": {
      "text/plain": [
       "'spamspamspam'"
      ]
     },
     "execution_count": 70,
     "metadata": {},
     "output_type": "execute_result"
    }
   ],
   "source": [
    "# Ans 7\n",
    "'spam' * 3"
   ]
  },
  {
   "cell_type": "code",
   "execution_count": 71,
   "metadata": {},
   "outputs": [
    {
     "data": {
      "text/plain": [
       "'\\neggs is a valid variable as it starts with a character and 100 is invalid because it starts with an integer'"
      ]
     },
     "execution_count": 71,
     "metadata": {},
     "output_type": "execute_result"
    }
   ],
   "source": [
    "# Que 8\n",
    "\"\"\"Why is eggs a valid variable name while 100 is invalid?\"\"\"\n",
    "# Ans 8\n",
    "\"\"\"\n",
    "eggs is a valid variable as it starts with a character and 100 is invalid because it starts with an integer\"\"\""
   ]
  },
  {
   "cell_type": "code",
   "execution_count": 72,
   "metadata": {},
   "outputs": [
    {
     "data": {
      "text/plain": [
       "'\\n1. integer - int\\n2. floating point - float\\n3. string - str'"
      ]
     },
     "execution_count": 72,
     "metadata": {},
     "output_type": "execute_result"
    }
   ],
   "source": [
    "# Que 9\n",
    "\"\"\"\n",
    "What three functions can be used to get the integer, floating-point number, or string version of a value?\"\"\"\n",
    "# Ans 9\n",
    "\"\"\"\n",
    "1. integer - int\n",
    "2. floating point - float\n",
    "3. string - str\"\"\""
   ]
  },
  {
   "cell_type": "code",
   "execution_count": 75,
   "metadata": {},
   "outputs": [
    {
     "data": {
      "text/plain": [
       "'\\nExpression causes error because it has both string and integer and in this expression  integer \"99\" is not typecasted to string'"
      ]
     },
     "execution_count": 75,
     "metadata": {},
     "output_type": "execute_result"
    }
   ],
   "source": [
    "# Que 10\n",
    "\"\"\"Why does this expression cause an error? How can you fix it?\n",
    "'I have eaten ' + 99 + ' burritos.'\"\"\"\n",
    "# Ans 10\n",
    "\"\"\"\n",
    "Expression causes error because it has both string and integer and in this expression  integer \"99\" is not typecasted to string\"\"\""
   ]
  },
  {
   "cell_type": "code",
   "execution_count": null,
   "metadata": {},
   "outputs": [],
   "source": []
  }
 ],
 "metadata": {
  "kernelspec": {
   "display_name": "Python 3",
   "language": "python",
   "name": "python3"
  },
  "language_info": {
   "codemirror_mode": {
    "name": "ipython",
    "version": 3
   },
   "file_extension": ".py",
   "mimetype": "text/x-python",
   "name": "python",
   "nbconvert_exporter": "python",
   "pygments_lexer": "ipython3",
   "version": "3.8.5"
  }
 },
 "nbformat": 4,
 "nbformat_minor": 4
}
